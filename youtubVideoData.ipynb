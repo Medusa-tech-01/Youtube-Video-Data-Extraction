{
 "cells": [
  {
   "cell_type": "code",
   "execution_count": 3,
   "metadata": {},
   "outputs": [],
   "source": [
    "# Import Libraries\n",
    "import requests\n",
    "import pandas as pd\n",
    "import time"
   ]
  },
  {
   "cell_type": "code",
   "execution_count": 4,
   "metadata": {},
   "outputs": [],
   "source": [
    "# Keys\n",
    "API_KEY = 'XXXXX'\n",
    "CHANNEL_ID = 'XXXXX'"
   ]
  },
  {
   "cell_type": "code",
   "execution_count": 5,
   "metadata": {},
   "outputs": [],
   "source": [
    "def get_video_details(video_id):\n",
    "    video_url = \"https://www.googleapis.com/youtube/v3/videos?id=\"+video_id+\"&part=statistics&key=\"+API_KEY\n",
    "    response_video_stats = requests.get(video_url).json()\n",
    "    \n",
    "    view_count = response_video_stats['items'][0]['statistics']['viewCount']\n",
    "    like_count = response_video_stats['items'][0]['statistics']['likeCount']\n",
    "    favorite_count = response_video_stats['items'][0]['statistics']['favoriteCount']\n",
    "    comment_count = response_video_stats['items'][0]['statistics']['commentCount']\n",
    "    return view_count, like_count, favorite_count, comment_count"
   ]
  },
  {
   "cell_type": "code",
   "execution_count": 6,
   "metadata": {},
   "outputs": [],
   "source": [
    "def get_videos(df):\n",
    "    pageToken = \"\"\n",
    "    while True:\n",
    "        url = \"https://www.googleapis.com/youtube/v3/search?key=\"+API_KEY+\"&channelId=\"+CHANNEL_ID+\"&part=snippet,id&order=date&maxResults=10000&\"+pageToken\n",
    "        response = requests.get(url).json()\n",
    "        time.sleep(1)  #give it a second before starting the for loop\n",
    "        if 'items' in response:\n",
    "            for video in response['items']:\n",
    "                if video['id']['kind'] == 'youtube#video':\n",
    "                    video_id = video['id']['videoId']\n",
    "                    video_title = video['snippet']['title']\n",
    "                    video_title = str(video_title).replace(\"&\",\"\")\n",
    "                    upload_date = video['snippet']['publishedAt']\n",
    "                    upload_date = str(upload_date).split(\"T\")[0]\n",
    "                    view_count, like_count, favorite_count, comment_count = get_video_details(video_id)\n",
    "\n",
    "                    new_row = pd.DataFrame([[video_id, video_title, upload_date, view_count, like_count, favorite_count, comment_count]], columns=df.columns)\n",
    "                    df = pd.concat([df, new_row], ignore_index=True)\n",
    "                    # df = df.append(new_row, ignore_index=True)\n",
    "\n",
    "                    # df = df.append({'video_id':video_id,'video_title':video_title,\n",
    "                    #             \"upload_date\":upload_date,\"view_count\":view_count,\n",
    "                    #             \"like_count\":like_count,\"favorite_count\":favorite_count,\n",
    "                    #             \"comment_count\":comment_count}, ignore_index=True)\n",
    "            try:\n",
    "                if response['nextPageToken'] != None: #if none, it means it reached the last page and break out of it\n",
    "                    pageToken = \"pageToken=\" + response['nextPageToken']\n",
    "\n",
    "            except:\n",
    "                break\n",
    "        else:\n",
    "            print(\"No 'items' found in response\")\n",
    "            print(response)  # Print the full response for debugging\n",
    "            break\n",
    "    return df"
   ]
  },
  {
   "cell_type": "code",
   "execution_count": 7,
   "metadata": {},
   "outputs": [],
   "source": [
    "df1 = pd.DataFrame(columns=['video_id', 'video_title', 'upload_date', 'view_count', 'like_count', 'favorite_count', 'comment_count'])\n",
    "df1 = get_videos(df1)\n"
   ]
  },
  {
   "cell_type": "code",
   "execution_count": 8,
   "metadata": {},
   "outputs": [
    {
     "data": {
      "text/html": [
       "<div>\n",
       "<style scoped>\n",
       "    .dataframe tbody tr th:only-of-type {\n",
       "        vertical-align: middle;\n",
       "    }\n",
       "\n",
       "    .dataframe tbody tr th {\n",
       "        vertical-align: top;\n",
       "    }\n",
       "\n",
       "    .dataframe thead th {\n",
       "        text-align: right;\n",
       "    }\n",
       "</style>\n",
       "<table border=\"1\" class=\"dataframe\">\n",
       "  <thead>\n",
       "    <tr style=\"text-align: right;\">\n",
       "      <th></th>\n",
       "      <th>video_id</th>\n",
       "      <th>video_title</th>\n",
       "      <th>upload_date</th>\n",
       "      <th>view_count</th>\n",
       "      <th>like_count</th>\n",
       "      <th>favorite_count</th>\n",
       "      <th>comment_count</th>\n",
       "    </tr>\n",
       "  </thead>\n",
       "  <tbody>\n",
       "    <tr>\n",
       "      <th>0</th>\n",
       "      <td>CSmZKgzeYQM</td>\n",
       "      <td>Cute little chicks</td>\n",
       "      <td>2020-07-26</td>\n",
       "      <td>38</td>\n",
       "      <td>4</td>\n",
       "      <td>0</td>\n",
       "      <td>0</td>\n",
       "    </tr>\n",
       "  </tbody>\n",
       "</table>\n",
       "</div>"
      ],
      "text/plain": [
       "      video_id         video_title upload_date view_count like_count  \\\n",
       "0  CSmZKgzeYQM  Cute little chicks  2020-07-26         38          4   \n",
       "\n",
       "  favorite_count comment_count  \n",
       "0              0             0  "
      ]
     },
     "execution_count": 8,
     "metadata": {},
     "output_type": "execute_result"
    }
   ],
   "source": [
    "df1"
   ]
  },
  {
   "cell_type": "code",
   "execution_count": 9,
   "metadata": {},
   "outputs": [],
   "source": [
    "df1.to_csv(\"YoutubeVideoData.csv\")"
   ]
  }
 ],
 "metadata": {
  "kernelspec": {
   "display_name": "Python 3",
   "language": "python",
   "name": "python3"
  },
  "language_info": {
   "codemirror_mode": {
    "name": "ipython",
    "version": 3
   },
   "file_extension": ".py",
   "mimetype": "text/x-python",
   "name": "python",
   "nbconvert_exporter": "python",
   "pygments_lexer": "ipython3",
   "version": "3.11.4"
  }
 },
 "nbformat": 4,
 "nbformat_minor": 2
}
